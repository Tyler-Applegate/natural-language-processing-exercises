{
 "cells": [
  {
   "cell_type": "markdown",
   "metadata": {},
   "source": [
    "## NLP Scratchpad for Data Preparation"
   ]
  },
  {
   "cell_type": "code",
   "execution_count": 1,
   "metadata": {},
   "outputs": [],
   "source": [
    "# imports\n",
    "\n",
    "import unicodedata\n",
    "import re\n",
    "import json\n",
    "\n",
    "import nltk\n",
    "from nltk.tokenize.toktok import ToktokTokenizer\n",
    "from nltk.corpus import stopwords\n",
    "\n",
    "import pandas as pd\n",
    "\n",
    "import acquire"
   ]
  },
  {
   "cell_type": "markdown",
   "metadata": {},
   "source": [
    "### Exercises\n",
    "- The end result of this exercise should be a file named prepare.py that defines the requested functions.\n",
    "\n",
    "- In this exercise we will be defining some functions to prepare textual data. These functions should apply equally well to both the codeup blog articles and the news articles that were previously acquired."
   ]
  },
  {
   "cell_type": "markdown",
   "metadata": {},
   "source": [
    "### 1. Define a function named basic_clean. It should take in a string and apply some basic text cleaning to it:\n",
    "- Lowercase everything\n",
    "- Normalize unicode characters\n",
    "- Replace anything that is not a letter, number, whitespace or a single quote."
   ]
  },
  {
   "cell_type": "code",
   "execution_count": 2,
   "metadata": {},
   "outputs": [
    {
     "data": {
      "text/plain": [
       "\"Paul Erdős and George Pólya are influential Hungarian mathematicians who contributed a lot to the field. Erdős's name contains the Hungarian letter 'ő' ('o' with double acute accent), but is often incorrectly written as Erdos or Erdös either by mistake or out of typographical necessity\""
      ]
     },
     "execution_count": 2,
     "metadata": {},
     "output_type": "execute_result"
    }
   ],
   "source": [
    "# let's establish some original text to build our function on\n",
    "original = \"Paul Erdős and George Pólya are influential Hungarian mathematicians who contributed \\\n",
    "a lot to the field. Erdős's name contains the Hungarian letter 'ő' ('o' with double acute accent), \\\n",
    "but is often incorrectly written as Erdos or Erdös either by mistake or out of typographical necessity\"\n",
    "original"
   ]
  },
  {
   "cell_type": "code",
   "execution_count": 3,
   "metadata": {},
   "outputs": [
    {
     "data": {
      "text/plain": [
       "\"paul erdős and george pólya are influential hungarian mathematicians who contributed a lot to the field. erdős's name contains the hungarian letter 'ő' ('o' with double acute accent), but is often incorrectly written as erdos or erdös either by mistake or out of typographical necessity\""
      ]
     },
     "execution_count": 3,
     "metadata": {},
     "output_type": "execute_result"
    }
   ],
   "source": [
    "#lowercase all letters in the text\n",
    "\n",
    "article = original.lower()\n",
    "\n",
    "article"
   ]
  },
  {
   "cell_type": "code",
   "execution_count": 4,
   "metadata": {},
   "outputs": [
    {
     "data": {
      "text/plain": [
       "\"paul erdos and george polya are influential hungarian mathematicians who contributed a lot to the field. erdos's name contains the hungarian letter 'o' ('o' with double acute accent), but is often incorrectly written as erdos or erdos either by mistake or out of typographical necessity\""
      ]
     },
     "execution_count": 4,
     "metadata": {},
     "output_type": "execute_result"
    }
   ],
   "source": [
    "# Normalizaton: Remove inconsistencies in unicode charater encoding.\n",
    "# encode the strings into ASCII byte-strings (ignore non-ASCII characters)\n",
    "# decode the byte-string back into a string\n",
    "\n",
    "article = unicodedata.normalize('NFKD', article)\\\n",
    ".encode('ascii', 'ignore')\\\n",
    ".decode('utf-8')\n",
    "\n",
    "article"
   ]
  },
  {
   "cell_type": "code",
   "execution_count": 5,
   "metadata": {},
   "outputs": [
    {
     "data": {
      "text/plain": [
       "\"paul erdos and george polya are influential hungarian mathematicians who contributed a lot to the field erdos's name contains the hungarian letter 'o' 'o' with double acute accent but is often incorrectly written as erdos or erdos either by mistake or out of typographical necessity\""
      ]
     },
     "execution_count": 5,
     "metadata": {},
     "output_type": "execute_result"
    }
   ],
   "source": [
    "# remove anything that is not a through z, a number, a single quote, or whitespace\n",
    "\n",
    "article = re.sub(r\"[^a-z0-9'\\s]\", '', article)\n",
    "\n",
    "article"
   ]
  },
  {
   "cell_type": "code",
   "execution_count": 6,
   "metadata": {},
   "outputs": [],
   "source": [
    "def basic_clean(string):\n",
    "    '''\n",
    "    This funtion will take in a single string, \n",
    "    - lowercase all of the characters, \n",
    "    - normalize unicode characters, \n",
    "    - replace anything that is not a letter/number/whitespace/single quote.\n",
    "    '''\n",
    "    \n",
    "    #lowercase all letters in the text\n",
    "    string = string.lower()\n",
    "    \n",
    "    # Normalizaton: Remove inconsistencies in unicode charater encoding.\n",
    "    # encode the strings into ASCII byte-strings (ignore non-ASCII characters)\n",
    "    # decode the byte-string back into a string\n",
    "    string = unicodedata.normalize('NFKD', string)\\\n",
    "    .encode('ascii', 'ignore')\\\n",
    "    .decode('utf-8', 'ignore')\n",
    "    \n",
    "    # remove anything that is not a through z, a number, a single quote, or whitespace\n",
    "    string = re.sub(r'[^\\w\\s]', '', string)\n",
    "    \n",
    "    return string"
   ]
  },
  {
   "cell_type": "code",
   "execution_count": 7,
   "metadata": {},
   "outputs": [],
   "source": [
    "prepped_article = basic_clean(original)"
   ]
  },
  {
   "cell_type": "markdown",
   "metadata": {},
   "source": [
    "### 2. Define a function named tokenize. It should take in a string and tokenize all the words in the string."
   ]
  },
  {
   "cell_type": "code",
   "execution_count": 8,
   "metadata": {},
   "outputs": [
    {
     "data": {
      "text/plain": [
       "\"paul erdos and george polya are influential hungarian mathematicians who contributed a lot to the field erdos ' s name contains the hungarian letter ' o ' ' o ' with double acute accent but is often incorrectly written as erdos or erdos either by mistake or out of typographical necessity\""
      ]
     },
     "execution_count": 8,
     "metadata": {},
     "output_type": "execute_result"
    }
   ],
   "source": [
    "# Create the tokenizer\n",
    "tokenizer = nltk.tokenize.ToktokTokenizer()\n",
    "\n",
    "# Use the tokenizer\n",
    "article = tokenizer.tokenize(article, return_str = True)\n",
    "\n",
    "article"
   ]
  },
  {
   "cell_type": "code",
   "execution_count": 9,
   "metadata": {},
   "outputs": [],
   "source": [
    "def tokenize(string):\n",
    "    '''\n",
    "    This function takes in the result of my basic_clean function (a single, cleaned string) and tokenizes all the words in the string.\n",
    "    It returns the tokenized string as a list\n",
    "    '''\n",
    "    \n",
    "    # Create the tokenizer\n",
    "    tokenizer = nltk.tokenize.ToktokTokenizer()\n",
    "\n",
    "    # Use the tokenizer\n",
    "    string = tokenizer.tokenize(string, return_str=True)\n",
    "    \n",
    "    return string"
   ]
  },
  {
   "cell_type": "markdown",
   "metadata": {},
   "source": [
    "### 3. Define a function named stem. It should accept some text and return the text after applying stemming to all the words."
   ]
  },
  {
   "cell_type": "code",
   "execution_count": 10,
   "metadata": {},
   "outputs": [],
   "source": [
    "def stem(string):\n",
    "    '''\n",
    "    This function will take in a single string, perform a PorterStemmer, and return the stemmed string.\n",
    "    '''\n",
    "    \n",
    "    # Create porter stemmer.\n",
    "    ps = nltk.porter.PorterStemmer()\n",
    "    \n",
    "    # Apply the stemmer to each word in our string.\n",
    "    stems = [ps.stem(word) for word in string.split()]\n",
    "    \n",
    "    string = ' '.join(stems)\n",
    "\n",
    "    \n",
    "    return string"
   ]
  },
  {
   "cell_type": "markdown",
   "metadata": {},
   "source": [
    "### 4. Define a function named lemmatize. It should accept some text and return the text after applying lemmatization to each word."
   ]
  },
  {
   "cell_type": "code",
   "execution_count": 11,
   "metadata": {},
   "outputs": [
    {
     "name": "stderr",
     "output_type": "stream",
     "text": [
      "[nltk_data] Downloading package wordnet to /Users/thxmanu/nltk_data...\n",
      "[nltk_data]   Package wordnet is already up-to-date!\n"
     ]
    },
    {
     "data": {
      "text/plain": [
       "True"
      ]
     },
     "execution_count": 11,
     "metadata": {},
     "output_type": "execute_result"
    }
   ],
   "source": [
    "# first I need to download 'wordnet'\n",
    "nltk.download('wordnet')"
   ]
  },
  {
   "cell_type": "code",
   "execution_count": 12,
   "metadata": {},
   "outputs": [],
   "source": [
    "def lemmatize(string):\n",
    "    '''\n",
    "    This function will take in a single string, perform lemmatization, and return the lemmatized string.\n",
    "    '''\n",
    "    \n",
    "    \n",
    "    # Create the Lemmatizer.\n",
    "    wnl = nltk.stem.WordNetLemmatizer()\n",
    "    \n",
    "    # Use the lemmatizer on each word in the list of tokenized words.\n",
    "    lemmas = [wnl.lemmatize(word) for word in string.split()] \n",
    "    \n",
    "    # Join our list of words into a string again; assign to a variable to save changes.\n",
    "    string = ' '.join(lemmas)\n",
    "    \n",
    "    return string"
   ]
  },
  {
   "cell_type": "markdown",
   "metadata": {},
   "source": [
    "### 5. Define a function named remove_stopwords. It should accept some text and return the text after removing all the stopwords.\n",
    "\n",
    "- This function should define two optional parameters, extra_words and exclude_words. These parameters should define any additional stop words to include, and any words that we don't want to remove."
   ]
  },
  {
   "cell_type": "code",
   "execution_count": 13,
   "metadata": {},
   "outputs": [],
   "source": [
    "# first let's build the base function, then let's add in the additional arguments\n",
    "\n",
    "def remove_stopwords(string, extra_words=[], exclude_words=[]):\n",
    "    '''\n",
    "    This function will take in a single string ('input_string') that has already been prepped, \n",
    "    remove all stop words, and return the string minus the stopwords.\n",
    "    '''\n",
    "\n",
    "    # define stopwords\n",
    "    stopword_list = stopwords.words('english')\n",
    "    \n",
    "    # Remove 'exclude_words' from stopword_list to keep in my text.\n",
    "    stopword_list = set(stopword_list) - set(exclude_words)\n",
    "    \n",
    "    # Add 'extra_words' to stopword_list\n",
    "    stopword_list = stopword_list.union(set(extra_words))\n",
    "    \n",
    "    # split words in string\n",
    "    words = string.split()\n",
    "        \n",
    "    # create a list of words from my string with stopwords removed\n",
    "    filtered_words = [word for word in words if word not in stopword_list]\n",
    "    \n",
    "    # join words in list back into strings\n",
    "    string_without_stopwords = ' '.join(filtered_words)\n",
    "    \n",
    "    return string_without_stopwords"
   ]
  },
  {
   "cell_type": "markdown",
   "metadata": {},
   "source": [
    "### 6. Use your data from the acquire to produce a dataframe of the news articles. Name the dataframe news_df."
   ]
  },
  {
   "cell_type": "code",
   "execution_count": 14,
   "metadata": {},
   "outputs": [],
   "source": [
    "# categories of news articles\n",
    "categories = [\"business\", \"sports\", \"technology\", \"entertainment\", \"science\", \"world\"]"
   ]
  },
  {
   "cell_type": "code",
   "execution_count": 15,
   "metadata": {},
   "outputs": [
    {
     "data": {
      "text/html": [
       "<div>\n",
       "<style scoped>\n",
       "    .dataframe tbody tr th:only-of-type {\n",
       "        vertical-align: middle;\n",
       "    }\n",
       "\n",
       "    .dataframe tbody tr th {\n",
       "        vertical-align: top;\n",
       "    }\n",
       "\n",
       "    .dataframe thead th {\n",
       "        text-align: right;\n",
       "    }\n",
       "</style>\n",
       "<table border=\"1\" class=\"dataframe\">\n",
       "  <thead>\n",
       "    <tr style=\"text-align: right;\">\n",
       "      <th></th>\n",
       "      <th>title</th>\n",
       "      <th>content</th>\n",
       "      <th>category</th>\n",
       "    </tr>\n",
       "  </thead>\n",
       "  <tbody>\n",
       "    <tr>\n",
       "      <th>0</th>\n",
       "      <td>Reliance Industries vaccinates 98% of workers,...</td>\n",
       "      <td>Reliance Industries has said in a statement th...</td>\n",
       "      <td>business</td>\n",
       "    </tr>\n",
       "    <tr>\n",
       "      <th>1</th>\n",
       "      <td>Speculation around our plans for crypto not tr...</td>\n",
       "      <td>Amazon on Monday denied speculations that it w...</td>\n",
       "      <td>business</td>\n",
       "    </tr>\n",
       "    <tr>\n",
       "      <th>2</th>\n",
       "      <td>Musk criticises Apple's 'walled garden', cobal...</td>\n",
       "      <td>Tesla's billionaire CEO Elon Musk criticised A...</td>\n",
       "      <td>business</td>\n",
       "    </tr>\n",
       "    <tr>\n",
       "      <th>3</th>\n",
       "      <td>I will most likely not be on future earnings c...</td>\n",
       "      <td>Tesla CEO and the world's second-richest perso...</td>\n",
       "      <td>business</td>\n",
       "    </tr>\n",
       "    <tr>\n",
       "      <th>4</th>\n",
       "      <td>Factually incorrect: INOX on report of Amazon ...</td>\n",
       "      <td>INOX Leisure denied a report that claimed Amaz...</td>\n",
       "      <td>business</td>\n",
       "    </tr>\n",
       "  </tbody>\n",
       "</table>\n",
       "</div>"
      ],
      "text/plain": [
       "                                               title  \\\n",
       "0  Reliance Industries vaccinates 98% of workers,...   \n",
       "1  Speculation around our plans for crypto not tr...   \n",
       "2  Musk criticises Apple's 'walled garden', cobal...   \n",
       "3  I will most likely not be on future earnings c...   \n",
       "4  Factually incorrect: INOX on report of Amazon ...   \n",
       "\n",
       "                                             content  category  \n",
       "0  Reliance Industries has said in a statement th...  business  \n",
       "1  Amazon on Monday denied speculations that it w...  business  \n",
       "2  Tesla's billionaire CEO Elon Musk criticised A...  business  \n",
       "3  Tesla CEO and the world's second-richest perso...  business  \n",
       "4  INOX Leisure denied a report that claimed Amaz...  business  "
      ]
     },
     "execution_count": 15,
     "metadata": {},
     "output_type": "execute_result"
    }
   ],
   "source": [
    "news_df = acquire.get_all_news_articles(categories)\n",
    "news_df.head()"
   ]
  },
  {
   "cell_type": "markdown",
   "metadata": {},
   "source": [
    "### 7. Make another dataframe for the Codeup blog posts. Name the dataframe codeup_df."
   ]
  },
  {
   "cell_type": "code",
   "execution_count": 16,
   "metadata": {},
   "outputs": [],
   "source": [
    "url_list = ['https://codeup.com/codeups-data-science-career-accelerator-is-here/', \n",
    "           'https://codeup.com/data-science-myths/',\n",
    "           'https://codeup.com/data-science-vs-data-analytics-whats-the-difference/',\n",
    "           'https://codeup.com/10-tips-to-crush-it-at-the-sa-tech-job-fair/',\n",
    "           'https://codeup.com/competitor-bootcamps-are-closing-is-the-model-in-danger/']"
   ]
  },
  {
   "cell_type": "code",
   "execution_count": 17,
   "metadata": {},
   "outputs": [],
   "source": [
    "codeup_df = acquire.get_blog_articles(url_list)"
   ]
  },
  {
   "cell_type": "code",
   "execution_count": 18,
   "metadata": {},
   "outputs": [],
   "source": [
    "codeup_df = pd.DataFrame(codeup_df)"
   ]
  },
  {
   "cell_type": "code",
   "execution_count": 19,
   "metadata": {},
   "outputs": [
    {
     "data": {
      "text/html": [
       "<div>\n",
       "<style scoped>\n",
       "    .dataframe tbody tr th:only-of-type {\n",
       "        vertical-align: middle;\n",
       "    }\n",
       "\n",
       "    .dataframe tbody tr th {\n",
       "        vertical-align: top;\n",
       "    }\n",
       "\n",
       "    .dataframe thead th {\n",
       "        text-align: right;\n",
       "    }\n",
       "</style>\n",
       "<table border=\"1\" class=\"dataframe\">\n",
       "  <thead>\n",
       "    <tr style=\"text-align: right;\">\n",
       "      <th></th>\n",
       "      <th>title</th>\n",
       "      <th>content</th>\n",
       "    </tr>\n",
       "  </thead>\n",
       "  <tbody>\n",
       "    <tr>\n",
       "      <th>0</th>\n",
       "      <td>Codeup’s Data Science Career Accelerator is Here!</td>\n",
       "      <td>The rumors are true! The time has arrived. Cod...</td>\n",
       "    </tr>\n",
       "    <tr>\n",
       "      <th>1</th>\n",
       "      <td>Data Science Myths</td>\n",
       "      <td>By Dimitri Antoniou and Maggie Giust\\nData Sci...</td>\n",
       "    </tr>\n",
       "    <tr>\n",
       "      <th>2</th>\n",
       "      <td>Data Science VS Data Analytics: What’s The Dif...</td>\n",
       "      <td>By Dimitri Antoniou\\nA week ago, Codeup launch...</td>\n",
       "    </tr>\n",
       "    <tr>\n",
       "      <th>3</th>\n",
       "      <td>10 Tips to Crush It at the SA Tech Job Fair</td>\n",
       "      <td>SA Tech Job Fair\\nThe third bi-annual San Anto...</td>\n",
       "    </tr>\n",
       "    <tr>\n",
       "      <th>4</th>\n",
       "      <td>Competitor Bootcamps Are Closing. Is the Model...</td>\n",
       "      <td>Competitor Bootcamps Are Closing. Is the Model...</td>\n",
       "    </tr>\n",
       "  </tbody>\n",
       "</table>\n",
       "</div>"
      ],
      "text/plain": [
       "                                               title  \\\n",
       "0  Codeup’s Data Science Career Accelerator is Here!   \n",
       "1                                 Data Science Myths   \n",
       "2  Data Science VS Data Analytics: What’s The Dif...   \n",
       "3        10 Tips to Crush It at the SA Tech Job Fair   \n",
       "4  Competitor Bootcamps Are Closing. Is the Model...   \n",
       "\n",
       "                                             content  \n",
       "0  The rumors are true! The time has arrived. Cod...  \n",
       "1  By Dimitri Antoniou and Maggie Giust\\nData Sci...  \n",
       "2  By Dimitri Antoniou\\nA week ago, Codeup launch...  \n",
       "3  SA Tech Job Fair\\nThe third bi-annual San Anto...  \n",
       "4  Competitor Bootcamps Are Closing. Is the Model...  "
      ]
     },
     "execution_count": 19,
     "metadata": {},
     "output_type": "execute_result"
    }
   ],
   "source": [
    "codeup_df"
   ]
  },
  {
   "cell_type": "markdown",
   "metadata": {},
   "source": [
    "### 8. For each dataframe, produce the following columns:\n",
    "- title to hold the title\n",
    "- original to hold the original article/post content\n",
    "- clean to hold the normalized and tokenized original with the stopwords removed.\n",
    "- stemmed to hold the stemmed version of the cleaned data.\n",
    "- lemmatized to hold the lemmatized version of the cleaned data."
   ]
  },
  {
   "cell_type": "markdown",
   "metadata": {},
   "source": [
    "### News Articles\n",
    "- [x] title to hold the title\n",
    "- [x] original to hold the original article/post content\n",
    "- [x] clean to hold the normalized and tokenized original with the stopwords removed.\n",
    "- [x] stemmed to hold the stemmed version of the cleaned data.\n",
    "- [] lemmatized to hold the lemmatized version of the cleaned data."
   ]
  },
  {
   "cell_type": "code",
   "execution_count": 20,
   "metadata": {},
   "outputs": [
    {
     "data": {
      "text/html": [
       "<div>\n",
       "<style scoped>\n",
       "    .dataframe tbody tr th:only-of-type {\n",
       "        vertical-align: middle;\n",
       "    }\n",
       "\n",
       "    .dataframe tbody tr th {\n",
       "        vertical-align: top;\n",
       "    }\n",
       "\n",
       "    .dataframe thead th {\n",
       "        text-align: right;\n",
       "    }\n",
       "</style>\n",
       "<table border=\"1\" class=\"dataframe\">\n",
       "  <thead>\n",
       "    <tr style=\"text-align: right;\">\n",
       "      <th></th>\n",
       "      <th>title</th>\n",
       "      <th>content</th>\n",
       "      <th>category</th>\n",
       "    </tr>\n",
       "  </thead>\n",
       "  <tbody>\n",
       "    <tr>\n",
       "      <th>0</th>\n",
       "      <td>Reliance Industries vaccinates 98% of workers,...</td>\n",
       "      <td>Reliance Industries has said in a statement th...</td>\n",
       "      <td>business</td>\n",
       "    </tr>\n",
       "    <tr>\n",
       "      <th>1</th>\n",
       "      <td>Speculation around our plans for crypto not tr...</td>\n",
       "      <td>Amazon on Monday denied speculations that it w...</td>\n",
       "      <td>business</td>\n",
       "    </tr>\n",
       "    <tr>\n",
       "      <th>2</th>\n",
       "      <td>Musk criticises Apple's 'walled garden', cobal...</td>\n",
       "      <td>Tesla's billionaire CEO Elon Musk criticised A...</td>\n",
       "      <td>business</td>\n",
       "    </tr>\n",
       "    <tr>\n",
       "      <th>3</th>\n",
       "      <td>I will most likely not be on future earnings c...</td>\n",
       "      <td>Tesla CEO and the world's second-richest perso...</td>\n",
       "      <td>business</td>\n",
       "    </tr>\n",
       "    <tr>\n",
       "      <th>4</th>\n",
       "      <td>Factually incorrect: INOX on report of Amazon ...</td>\n",
       "      <td>INOX Leisure denied a report that claimed Amaz...</td>\n",
       "      <td>business</td>\n",
       "    </tr>\n",
       "    <tr>\n",
       "      <th>...</th>\n",
       "      <td>...</td>\n",
       "      <td>...</td>\n",
       "      <td>...</td>\n",
       "    </tr>\n",
       "    <tr>\n",
       "      <th>143</th>\n",
       "      <td>6 killed after rains trigger landslides in ref...</td>\n",
       "      <td>Bangladeshi officials on Tuesday said that at ...</td>\n",
       "      <td>world</td>\n",
       "    </tr>\n",
       "    <tr>\n",
       "      <th>144</th>\n",
       "      <td>China's claims in South China Sea have no basi...</td>\n",
       "      <td>China's territorial claims in the South China ...</td>\n",
       "      <td>world</td>\n",
       "    </tr>\n",
       "    <tr>\n",
       "      <th>145</th>\n",
       "      <td>Myanmar military cancels 2020 polls results wo...</td>\n",
       "      <td>Myanmar's military government on Monday cancel...</td>\n",
       "      <td>world</td>\n",
       "    </tr>\n",
       "    <tr>\n",
       "      <th>146</th>\n",
       "      <td>Cuba says its embassy in France targeted with ...</td>\n",
       "      <td>Cuba on Tuesday said that its embassy in Franc...</td>\n",
       "      <td>world</td>\n",
       "    </tr>\n",
       "    <tr>\n",
       "      <th>147</th>\n",
       "      <td>Samoa's first female PM takes office after con...</td>\n",
       "      <td>Samoa's first female PM Fiame Naomi Mata'afa t...</td>\n",
       "      <td>world</td>\n",
       "    </tr>\n",
       "  </tbody>\n",
       "</table>\n",
       "<p>148 rows × 3 columns</p>\n",
       "</div>"
      ],
      "text/plain": [
       "                                                 title  \\\n",
       "0    Reliance Industries vaccinates 98% of workers,...   \n",
       "1    Speculation around our plans for crypto not tr...   \n",
       "2    Musk criticises Apple's 'walled garden', cobal...   \n",
       "3    I will most likely not be on future earnings c...   \n",
       "4    Factually incorrect: INOX on report of Amazon ...   \n",
       "..                                                 ...   \n",
       "143  6 killed after rains trigger landslides in ref...   \n",
       "144  China's claims in South China Sea have no basi...   \n",
       "145  Myanmar military cancels 2020 polls results wo...   \n",
       "146  Cuba says its embassy in France targeted with ...   \n",
       "147  Samoa's first female PM takes office after con...   \n",
       "\n",
       "                                               content  category  \n",
       "0    Reliance Industries has said in a statement th...  business  \n",
       "1    Amazon on Monday denied speculations that it w...  business  \n",
       "2    Tesla's billionaire CEO Elon Musk criticised A...  business  \n",
       "3    Tesla CEO and the world's second-richest perso...  business  \n",
       "4    INOX Leisure denied a report that claimed Amaz...  business  \n",
       "..                                                 ...       ...  \n",
       "143  Bangladeshi officials on Tuesday said that at ...     world  \n",
       "144  China's territorial claims in the South China ...     world  \n",
       "145  Myanmar's military government on Monday cancel...     world  \n",
       "146  Cuba on Tuesday said that its embassy in Franc...     world  \n",
       "147  Samoa's first female PM Fiame Naomi Mata'afa t...     world  \n",
       "\n",
       "[148 rows x 3 columns]"
      ]
     },
     "execution_count": 20,
     "metadata": {},
     "output_type": "execute_result"
    }
   ],
   "source": [
    "# let's see what it looks like...\n",
    "news_df"
   ]
  },
  {
   "cell_type": "code",
   "execution_count": 23,
   "metadata": {},
   "outputs": [],
   "source": [
    "def prep_article_data(df, column, extra_words=[], exclude_words=[]):\n",
    "    '''\n",
    "    This function take in a df and the string name for a text column with \n",
    "    option to pass lists for extra_words and exclude_words and\n",
    "    returns a df with the text article title, original text, stemmed text,\n",
    "    lemmatized text, cleaned, tokenized, & lemmatized text with stopwords removed.\n",
    "    '''\n",
    "    df[f'cleaned_{column}'] = df[column].apply(basic_clean)\\\n",
    "                            .apply(tokenize)\\\n",
    "                            .apply(remove_stopwords, \n",
    "                                   extra_words=extra_words, \n",
    "                                   exclude_words=exclude_words)\n",
    "    \n",
    "    df[f'stemmed_{column}'] = df[column].apply(basic_clean)\\\n",
    "                            .apply(tokenize)\\\n",
    "                            .apply(stem)\\\n",
    "                            .apply(remove_stopwords, \n",
    "                                   extra_words=extra_words, \n",
    "                                   exclude_words=exclude_words)\n",
    "    \n",
    "    df[f'lemmatized_{column}'] = df[column].apply(basic_clean)\\\n",
    "                            .apply(tokenize)\\\n",
    "                            .apply(lemmatize)\\\n",
    "                            .apply(remove_stopwords, \n",
    "                                   extra_words=extra_words, \n",
    "                                   exclude_words=exclude_words)\n",
    "    \n",
    "    return df"
   ]
  },
  {
   "cell_type": "code",
   "execution_count": 24,
   "metadata": {},
   "outputs": [
    {
     "data": {
      "text/html": [
       "<div>\n",
       "<style scoped>\n",
       "    .dataframe tbody tr th:only-of-type {\n",
       "        vertical-align: middle;\n",
       "    }\n",
       "\n",
       "    .dataframe tbody tr th {\n",
       "        vertical-align: top;\n",
       "    }\n",
       "\n",
       "    .dataframe thead th {\n",
       "        text-align: right;\n",
       "    }\n",
       "</style>\n",
       "<table border=\"1\" class=\"dataframe\">\n",
       "  <thead>\n",
       "    <tr style=\"text-align: right;\">\n",
       "      <th></th>\n",
       "      <th>title</th>\n",
       "      <th>content</th>\n",
       "      <th>category</th>\n",
       "      <th>cleaned_content</th>\n",
       "      <th>stemmed_content</th>\n",
       "      <th>lemmatized_{column}</th>\n",
       "      <th>lemmatized_content</th>\n",
       "    </tr>\n",
       "  </thead>\n",
       "  <tbody>\n",
       "    <tr>\n",
       "      <th>0</th>\n",
       "      <td>Reliance Industries vaccinates 98% of workers,...</td>\n",
       "      <td>Reliance Industries has said in a statement th...</td>\n",
       "      <td>business</td>\n",
       "      <td>reliance industries said statement 98 workers ...</td>\n",
       "      <td>relianc industri ha said statement 98 worker r...</td>\n",
       "      <td>reliance industry ha said statement 98 worker ...</td>\n",
       "      <td>reliance industry ha said statement 98 worker ...</td>\n",
       "    </tr>\n",
       "    <tr>\n",
       "      <th>1</th>\n",
       "      <td>Speculation around our plans for crypto not tr...</td>\n",
       "      <td>Amazon on Monday denied speculations that it w...</td>\n",
       "      <td>business</td>\n",
       "      <td>amazon monday denied speculations looking acce...</td>\n",
       "      <td>amazon monday deni specul wa look accept bitco...</td>\n",
       "      <td>amazon monday denied speculation wa looking ac...</td>\n",
       "      <td>amazon monday denied speculation wa looking ac...</td>\n",
       "    </tr>\n",
       "    <tr>\n",
       "      <th>2</th>\n",
       "      <td>Musk criticises Apple's 'walled garden', cobal...</td>\n",
       "      <td>Tesla's billionaire CEO Elon Musk criticised A...</td>\n",
       "      <td>business</td>\n",
       "      <td>teslas billionaire ceo elon musk criticised ap...</td>\n",
       "      <td>tesla billionair ceo elon musk criticis appl t...</td>\n",
       "      <td>tesla billionaire ceo elon musk criticised app...</td>\n",
       "      <td>tesla billionaire ceo elon musk criticised app...</td>\n",
       "    </tr>\n",
       "    <tr>\n",
       "      <th>3</th>\n",
       "      <td>I will most likely not be on future earnings c...</td>\n",
       "      <td>Tesla CEO and the world's second-richest perso...</td>\n",
       "      <td>business</td>\n",
       "      <td>tesla ceo worlds secondrichest person elon mus...</td>\n",
       "      <td>tesla ceo world secondrichest person elon musk...</td>\n",
       "      <td>tesla ceo world secondrichest person elon musk...</td>\n",
       "      <td>tesla ceo world secondrichest person elon musk...</td>\n",
       "    </tr>\n",
       "    <tr>\n",
       "      <th>4</th>\n",
       "      <td>Factually incorrect: INOX on report of Amazon ...</td>\n",
       "      <td>INOX Leisure denied a report that claimed Amaz...</td>\n",
       "      <td>business</td>\n",
       "      <td>inox leisure denied report claimed amazon indi...</td>\n",
       "      <td>inox leisur deni report claim amazon india dis...</td>\n",
       "      <td>inox leisure denied report claimed amazon indi...</td>\n",
       "      <td>inox leisure denied report claimed amazon indi...</td>\n",
       "    </tr>\n",
       "    <tr>\n",
       "      <th>...</th>\n",
       "      <td>...</td>\n",
       "      <td>...</td>\n",
       "      <td>...</td>\n",
       "      <td>...</td>\n",
       "      <td>...</td>\n",
       "      <td>...</td>\n",
       "      <td>...</td>\n",
       "    </tr>\n",
       "    <tr>\n",
       "      <th>143</th>\n",
       "      <td>6 killed after rains trigger landslides in ref...</td>\n",
       "      <td>Bangladeshi officials on Tuesday said that at ...</td>\n",
       "      <td>world</td>\n",
       "      <td>bangladeshi officials tuesday said least six p...</td>\n",
       "      <td>bangladeshi offici tuesday said least six peop...</td>\n",
       "      <td>bangladeshi official tuesday said least six pe...</td>\n",
       "      <td>bangladeshi official tuesday said least six pe...</td>\n",
       "    </tr>\n",
       "    <tr>\n",
       "      <th>144</th>\n",
       "      <td>China's claims in South China Sea have no basi...</td>\n",
       "      <td>China's territorial claims in the South China ...</td>\n",
       "      <td>world</td>\n",
       "      <td>chinas territorial claims south china sea basi...</td>\n",
       "      <td>china territori claim south china sea basi int...</td>\n",
       "      <td>china territorial claim south china sea basis ...</td>\n",
       "      <td>china territorial claim south china sea basis ...</td>\n",
       "    </tr>\n",
       "    <tr>\n",
       "      <th>145</th>\n",
       "      <td>Myanmar military cancels 2020 polls results wo...</td>\n",
       "      <td>Myanmar's military government on Monday cancel...</td>\n",
       "      <td>world</td>\n",
       "      <td>myanmars military government monday cancelled ...</td>\n",
       "      <td>myanmar militari govern monday cancel result 2...</td>\n",
       "      <td>myanmar military government monday cancelled r...</td>\n",
       "      <td>myanmar military government monday cancelled r...</td>\n",
       "    </tr>\n",
       "    <tr>\n",
       "      <th>146</th>\n",
       "      <td>Cuba says its embassy in France targeted with ...</td>\n",
       "      <td>Cuba on Tuesday said that its embassy in Franc...</td>\n",
       "      <td>world</td>\n",
       "      <td>cuba tuesday said embassy france attacked petr...</td>\n",
       "      <td>cuba tuesday said embassi franc attack petrol ...</td>\n",
       "      <td>cuba tuesday said embassy france attacked petr...</td>\n",
       "      <td>cuba tuesday said embassy france attacked petr...</td>\n",
       "    </tr>\n",
       "    <tr>\n",
       "      <th>147</th>\n",
       "      <td>Samoa's first female PM takes office after con...</td>\n",
       "      <td>Samoa's first female PM Fiame Naomi Mata'afa t...</td>\n",
       "      <td>world</td>\n",
       "      <td>samoas first female pm fiame naomi mataafa too...</td>\n",
       "      <td>samoa first femal pm fiam naomi mataafa took o...</td>\n",
       "      <td>samoa first female pm fiame naomi mataafa took...</td>\n",
       "      <td>samoa first female pm fiame naomi mataafa took...</td>\n",
       "    </tr>\n",
       "  </tbody>\n",
       "</table>\n",
       "<p>148 rows × 7 columns</p>\n",
       "</div>"
      ],
      "text/plain": [
       "                                                 title  \\\n",
       "0    Reliance Industries vaccinates 98% of workers,...   \n",
       "1    Speculation around our plans for crypto not tr...   \n",
       "2    Musk criticises Apple's 'walled garden', cobal...   \n",
       "3    I will most likely not be on future earnings c...   \n",
       "4    Factually incorrect: INOX on report of Amazon ...   \n",
       "..                                                 ...   \n",
       "143  6 killed after rains trigger landslides in ref...   \n",
       "144  China's claims in South China Sea have no basi...   \n",
       "145  Myanmar military cancels 2020 polls results wo...   \n",
       "146  Cuba says its embassy in France targeted with ...   \n",
       "147  Samoa's first female PM takes office after con...   \n",
       "\n",
       "                                               content  category  \\\n",
       "0    Reliance Industries has said in a statement th...  business   \n",
       "1    Amazon on Monday denied speculations that it w...  business   \n",
       "2    Tesla's billionaire CEO Elon Musk criticised A...  business   \n",
       "3    Tesla CEO and the world's second-richest perso...  business   \n",
       "4    INOX Leisure denied a report that claimed Amaz...  business   \n",
       "..                                                 ...       ...   \n",
       "143  Bangladeshi officials on Tuesday said that at ...     world   \n",
       "144  China's territorial claims in the South China ...     world   \n",
       "145  Myanmar's military government on Monday cancel...     world   \n",
       "146  Cuba on Tuesday said that its embassy in Franc...     world   \n",
       "147  Samoa's first female PM Fiame Naomi Mata'afa t...     world   \n",
       "\n",
       "                                       cleaned_content  \\\n",
       "0    reliance industries said statement 98 workers ...   \n",
       "1    amazon monday denied speculations looking acce...   \n",
       "2    teslas billionaire ceo elon musk criticised ap...   \n",
       "3    tesla ceo worlds secondrichest person elon mus...   \n",
       "4    inox leisure denied report claimed amazon indi...   \n",
       "..                                                 ...   \n",
       "143  bangladeshi officials tuesday said least six p...   \n",
       "144  chinas territorial claims south china sea basi...   \n",
       "145  myanmars military government monday cancelled ...   \n",
       "146  cuba tuesday said embassy france attacked petr...   \n",
       "147  samoas first female pm fiame naomi mataafa too...   \n",
       "\n",
       "                                       stemmed_content  \\\n",
       "0    relianc industri ha said statement 98 worker r...   \n",
       "1    amazon monday deni specul wa look accept bitco...   \n",
       "2    tesla billionair ceo elon musk criticis appl t...   \n",
       "3    tesla ceo world secondrichest person elon musk...   \n",
       "4    inox leisur deni report claim amazon india dis...   \n",
       "..                                                 ...   \n",
       "143  bangladeshi offici tuesday said least six peop...   \n",
       "144  china territori claim south china sea basi int...   \n",
       "145  myanmar militari govern monday cancel result 2...   \n",
       "146  cuba tuesday said embassi franc attack petrol ...   \n",
       "147  samoa first femal pm fiam naomi mataafa took o...   \n",
       "\n",
       "                                   lemmatized_{column}  \\\n",
       "0    reliance industry ha said statement 98 worker ...   \n",
       "1    amazon monday denied speculation wa looking ac...   \n",
       "2    tesla billionaire ceo elon musk criticised app...   \n",
       "3    tesla ceo world secondrichest person elon musk...   \n",
       "4    inox leisure denied report claimed amazon indi...   \n",
       "..                                                 ...   \n",
       "143  bangladeshi official tuesday said least six pe...   \n",
       "144  china territorial claim south china sea basis ...   \n",
       "145  myanmar military government monday cancelled r...   \n",
       "146  cuba tuesday said embassy france attacked petr...   \n",
       "147  samoa first female pm fiame naomi mataafa took...   \n",
       "\n",
       "                                    lemmatized_content  \n",
       "0    reliance industry ha said statement 98 worker ...  \n",
       "1    amazon monday denied speculation wa looking ac...  \n",
       "2    tesla billionaire ceo elon musk criticised app...  \n",
       "3    tesla ceo world secondrichest person elon musk...  \n",
       "4    inox leisure denied report claimed amazon indi...  \n",
       "..                                                 ...  \n",
       "143  bangladeshi official tuesday said least six pe...  \n",
       "144  china territorial claim south china sea basis ...  \n",
       "145  myanmar military government monday cancelled r...  \n",
       "146  cuba tuesday said embassy france attacked petr...  \n",
       "147  samoa first female pm fiame naomi mataafa took...  \n",
       "\n",
       "[148 rows x 7 columns]"
      ]
     },
     "execution_count": 24,
     "metadata": {},
     "output_type": "execute_result"
    }
   ],
   "source": [
    "prep_article_data(news_df, 'content')"
   ]
  },
  {
   "cell_type": "code",
   "execution_count": null,
   "metadata": {},
   "outputs": [],
   "source": []
  }
 ],
 "metadata": {
  "kernelspec": {
   "display_name": "Python 3.8.5 64-bit ('base': conda)",
   "language": "python",
   "name": "python385jvsc74a57bd0b64057e63add2b45b1ffc7eab9b09c8889b419c878e2fdf0d08f837f0fc857a7"
  },
  "language_info": {
   "codemirror_mode": {
    "name": "ipython",
    "version": 3
   },
   "file_extension": ".py",
   "mimetype": "text/x-python",
   "name": "python",
   "nbconvert_exporter": "python",
   "pygments_lexer": "ipython3",
   "version": "3.8.5"
  }
 },
 "nbformat": 4,
 "nbformat_minor": 4
}
